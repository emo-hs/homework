{
 "cells": [
  {
   "cell_type": "code",
   "execution_count": 5,
   "metadata": {},
   "outputs": [
    {
     "name": "stdout",
     "output_type": "stream",
     "text": [
      "Financial Analysis\n",
      "------------------------------\n",
      "Total Months: 86\n",
      "Total Profits/Losses: $38382578\n",
      "Average Changes: $-2315.12\n",
      "Greatest Increase in Profits: Feb-2012 ($1926159)\n",
      "Greatest Decrease in Profits: Sep-2013 ($-2196167)\n"
     ]
    }
   ],
   "source": [
    "from pathlib import Path\n",
    "import csv\n",
    "PyBank = Path('../PyBank/Homework_Week 2_PyBank_Resources_budget_data.csv')\n",
    "with open(PyBank, 'r') as csvfile:\n",
    "    file = csv.reader(csvfile, delimiter=\",\")\n",
    "    csv_header = next(file)\n",
    "    record = []\n",
    "    csv_header.append(\"changes\")\n",
    "    record.append(csv_header)\n",
    "    \n",
    "    count = 0\n",
    "    total = 0\n",
    "    profit_loss = []\n",
    "    changes = []\n",
    "    maximum = 0\n",
    "    minimum = 0\n",
    "    for row in file:\n",
    "        PL = int(row[1])\n",
    "        count += 1\n",
    "        total += PL\n",
    "        profit_loss.append(PL)\n",
    "        record.append(row)\n",
    "  \n",
    "    \n",
    "    for i in range(len(profit_loss)-1):\n",
    "        \n",
    "        change = profit_loss[i+1] - profit_loss[i]         \n",
    "        changes.append(change)\n",
    "        average = sum(changes) / (count -1)\n",
    "    \n",
    "    \n",
    "    for ix,i in enumerate(changes):\n",
    "        record[ix+2].append(i)\n",
    "     \n",
    "    for x in changes:\n",
    "        if minimum == 0:\n",
    "            minimum = x\n",
    "        elif minimum > x:\n",
    "            minimum = x\n",
    "        elif maximum < x:\n",
    "            maximum = x\n",
    "    \n",
    "    for list in record:\n",
    "        for val in list:\n",
    "            if val == minimum:\n",
    "                date_1 = list[0]\n",
    "            elif val == maximum:\n",
    "                date_2 = list[0]\n",
    "        \n",
    "    \n",
    "    print(\"Financial Analysis\")\n",
    "    print(\"-\" *30)\n",
    "    print(f\"Total Months: {count}\")\n",
    "    print(f\"Total Profits/Losses: ${total}\")\n",
    "    print(f\"Average Changes: ${average :.2f}\")\n",
    "    print(f\"Greatest Increase in Profits: {date_2} (${maximum})\")\n",
    "    print(f\"Greatest Decrease in Profits: {date_1} (${minimum})\")"
   ]
  },
  {
   "cell_type": "code",
   "execution_count": 6,
   "metadata": {},
   "outputs": [],
   "source": [
    "output_path = \"output.txt\"\n",
    "with open(output_path, 'w') as file:\n",
    "    file.write(f\"Financial Analysis\\n\")\n",
    "    file.write('-'*30)\n",
    "    file.write('\\n')\n",
    "    file.write( f\"Total Months: {count}\\n\")\n",
    "    file.write(f\"Total Profits/Losses: ${total}\\n\")\n",
    "    file.write(f\"Average Changes: ${average :.2f}\\n\")\n",
    "    file.write(f\"Greatest Increase in Profits: {date_2} (${maximum})\\n\")\n",
    "    file.write(f\"Greatest Decrease in Profits: {date_1} (${minimum})\\n\")"
   ]
  },
  {
   "cell_type": "code",
   "execution_count": null,
   "metadata": {},
   "outputs": [],
   "source": []
  }
 ],
 "metadata": {
  "kernelspec": {
   "display_name": "Python 3",
   "language": "python",
   "name": "python3"
  },
  "language_info": {
   "codemirror_mode": {
    "name": "ipython",
    "version": 3
   },
   "file_extension": ".py",
   "mimetype": "text/x-python",
   "name": "python",
   "nbconvert_exporter": "python",
   "pygments_lexer": "ipython3",
   "version": "3.7.7"
  }
 },
 "nbformat": 4,
 "nbformat_minor": 4
}
